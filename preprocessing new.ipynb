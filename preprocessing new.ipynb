{
  "nbformat": 4,
  "nbformat_minor": 0,
  "metadata": {
    "colab": {
      "provenance": [],
      "mount_file_id": "1J4jw33SWR4UL_Wr-Jf5LcB9cMJxpy0c0",
      "authorship_tag": "ABX9TyOyaKVLCEQrlDnijBMZ6Cuz",
      "include_colab_link": true
    },
    "kernelspec": {
      "name": "python3",
      "display_name": "Python 3"
    },
    "language_info": {
      "name": "python"
    }
  },
  "cells": [
    {
      "cell_type": "markdown",
      "metadata": {
        "id": "view-in-github",
        "colab_type": "text"
      },
      "source": [
        "<a href=\"https://colab.research.google.com/github/subradeepa08/Breast-Cancer-Prediction/blob/main/preprocessing%20new.ipynb\" target=\"_parent\"><img src=\"https://colab.research.google.com/assets/colab-badge.svg\" alt=\"Open In Colab\"/></a>"
      ]
    },
    {
      "cell_type": "markdown",
      "source": [
        "Mounting Google Drive on Google Colab"
      ],
      "metadata": {
        "id": "801CMVsrA_s7"
      }
    },
    {
      "cell_type": "code",
      "execution_count": 1,
      "metadata": {
        "colab": {
          "base_uri": "https://localhost:8080/"
        },
        "id": "knOiGOu0A8qe",
        "outputId": "6f7a4562-1ba2-42b1-dc32-3aa5c0bbc9fb"
      },
      "outputs": [
        {
          "output_type": "stream",
          "name": "stdout",
          "text": [
            "Mounted at /content/drive\n"
          ]
        }
      ],
      "source": [
        "from google.colab import drive\n",
        "drive.mount('/content/drive')"
      ]
    },
    {
      "cell_type": "markdown",
      "source": [
        "To import the dataset, we first need to import some of the necessary libraries."
      ],
      "metadata": {
        "id": "-gsL75rkBN9S"
      }
    },
    {
      "cell_type": "code",
      "source": [
        "# importing libraries\n",
        "import tensorflow \n",
        "import keras  \n",
        "import os\n",
        "import glob \n",
        "from skimage import io \n",
        "import random \n",
        "import numpy as np\n",
        "import matplotlib.pyplot as plt  "
      ],
      "metadata": {
        "id": "ukhGcIE3BIFR"
      },
      "execution_count": 2,
      "outputs": []
    },
    {
      "cell_type": "markdown",
      "source": [
        "Load the Dataset"
      ],
      "metadata": {
        "id": "9zjLYk_7C3EK"
      }
    },
    {
      "cell_type": "code",
      "source": [
        "import os\n",
        "import cv2\n",
        "\n",
        "path = '/content/drive/MyDrive/Dataset/adenosis/40X'\n",
        "for filename in os.listdir(path):\n",
        "    img = cv2.imread(os.path.join(path, filename))\n",
        "path = '/content/drive/MyDrive/Dataset/adenosis/100X'\n",
        "for filename in os.listdir(path):\n",
        "    img = cv2.imread(os.path.join(path, filename))\n",
        "path = '/content/drive/MyDrive/Dataset/adenosis/200X'\n",
        "for filename in os.listdir(path):\n",
        "    img = cv2.imread(os.path.join(path, filename))\n",
        "path = '/content/drive/MyDrive/Dataset/adenosis/400X'\n",
        "for filename in os.listdir(path):\n",
        "    img = cv2.imread(os.path.join(path, filename))\n",
        "path = '/content/drive/MyDrive/Dataset/ductal_carcinoma/40X'\n",
        "for filename in os.listdir(path):\n",
        "    img = cv2.imread(os.path.join(path, filename))\n",
        "path = '/content/drive/MyDrive/Dataset/ductal_carcinoma/100X'\n",
        "for filename in os.listdir(path):\n",
        "    img = cv2.imread(os.path.join(path, filename))\n",
        "path = '/content/drive/MyDrive/Dataset/ductal_carcinoma/200X'\n",
        "for filename in os.listdir(path):\n",
        "    img = cv2.imread(os.path.join(path, filename))\n",
        "path = '/content/drive/MyDrive/Dataset/ductal_carcinoma/400X'\n",
        "for filename in os.listdir(path):\n",
        "    img = cv2.imread(os.path.join(path, filename))\n",
        "path = '/content/drive/MyDrive/Dataset/ductal_carcinoma/40X'\n",
        "for filename in os.listdir(path):\n",
        "    img = cv2.imread(os.path.join(path, filename))\n",
        "path = '/content/drive/MyDrive/Dataset/ductal_carcinoma/100X'\n",
        "for filename in os.listdir(path):\n",
        "    img = cv2.imread(os.path.join(path, filename))\n",
        "path = '/content/drive/MyDrive/Dataset/ductal_carcinoma/200X'\n",
        "for filename in os.listdir(path):\n",
        "    img = cv2.imread(os.path.join(path, filename))\n",
        "path = '/content/drive/MyDrive/Dataset/ductal_carcinoma/400X'\n",
        "for filename in os.listdir(path):\n",
        "    img = cv2.imread(os.path.join(path, filename))\n",
        "path = '/content/drive/MyDrive/Dataset/fibroadenoma/40X'\n",
        "for filename in os.listdir(path):\n",
        "    img = cv2.imread(os.path.join(path, filename))\n",
        "path = '/content/drive/MyDrive/Dataset/fibroadenoma/100X'\n",
        "for filename in os.listdir(path):\n",
        "    img = cv2.imread(os.path.join(path, filename))\n",
        "path = '/content/drive/MyDrive/Dataset/fibroadenoma/200X'\n",
        "for filename in os.listdir(path):\n",
        "    img = cv2.imread(os.path.join(path, filename))\n",
        "path = '/content/drive/MyDrive/Dataset/fibroadenoma/400X'\n",
        "for filename in os.listdir(path):\n",
        "    img = cv2.imread(os.path.join(path, filename))\n",
        "path = '/content/drive/MyDrive/Dataset/lobular_carcinoma/40X'\n",
        "for filename in os.listdir(path):\n",
        "    img = cv2.imread(os.path.join(path, filename))\n",
        "path = '/content/drive/MyDrive/Dataset/lobular_carcinoma/100X'\n",
        "for filename in os.listdir(path):\n",
        "    img = cv2.imread(os.path.join(path, filename))\n",
        "path = '/content/drive/MyDrive/Dataset/lobular_carcinoma/200X'\n",
        "for filename in os.listdir(path):\n",
        "    img = cv2.imread(os.path.join(path, filename))\n",
        "path = '/content/drive/MyDrive/Dataset/lobular_carcinoma/400X'\n",
        "for filename in os.listdir(path):\n",
        "    img = cv2.imread(os.path.join(path, filename))\n",
        "path = '/content/drive/MyDrive/Dataset/mucinous_carcinoma/40X'\n",
        "for filename in os.listdir(path):\n",
        "    img = cv2.imread(os.path.join(path, filename))\n",
        "path = '/content/drive/MyDrive/Dataset/mucinous_carcinoma/100X'\n",
        "for filename in os.listdir(path):\n",
        "    img = cv2.imread(os.path.join(path, filename))\n",
        "path = '/content/drive/MyDrive/Dataset/mucinous_carcinoma/200X'\n",
        "for filename in os.listdir(path):\n",
        "    img = cv2.imread(os.path.join(path, filename))\n",
        "path = '/content/drive/MyDrive/Dataset/mucinous_carcinoma/400X'\n",
        "for filename in os.listdir(path):\n",
        "    img = cv2.imread(os.path.join(path, filename))\n",
        "path = '/content/drive/MyDrive/Dataset/papillary_carcinoma/40X'\n",
        "for filename in os.listdir(path):\n",
        "    img = cv2.imread(os.path.join(path, filename))\n",
        "path = '/content/drive/MyDrive/Dataset/papillary_carcinoma/100X'\n",
        "for filename in os.listdir(path):\n",
        "    img = cv2.imread(os.path.join(path, filename))\n",
        "path = '/content/drive/MyDrive/Dataset/papillary_carcinoma/200X'\n",
        "for filename in os.listdir(path):\n",
        "    img = cv2.imread(os.path.join(path, filename))\n",
        "path = '/content/drive/MyDrive/Dataset/papillary_carcinoma/400X'\n",
        "for filename in os.listdir(path):\n",
        "    img = cv2.imread(os.path.join(path, filename))\n",
        "path = '/content/drive/MyDrive/Dataset/phyllodes_tumor/40X'\n",
        "for filename in os.listdir(path):\n",
        "    img = cv2.imread(os.path.join(path, filename))\n",
        "path = '/content/drive/MyDrive/Dataset/phyllodes_tumor/100X'\n",
        "for filename in os.listdir(path):\n",
        "    img = cv2.imread(os.path.join(path, filename))\n",
        "path = '/content/drive/MyDrive/Dataset/phyllodes_tumor/200X'\n",
        "for filename in os.listdir(path):\n",
        "    img = cv2.imread(os.path.join(path, filename))\n",
        "path = '/content/drive/MyDrive/Dataset/phyllodes_tumor/400X'\n",
        "for filename in os.listdir(path):\n",
        "    img = cv2.imread(os.path.join(path, filename))\n",
        "path = '/content/drive/MyDrive/Dataset/tubular_adenoma/40X'\n",
        "for filename in os.listdir(path):\n",
        "    img = cv2.imread(os.path.join(path, filename))\n",
        "path = '/content/drive/MyDrive/Dataset/tubular_adenoma/100X'\n",
        "for filename in os.listdir(path):\n",
        "    img = cv2.imread(os.path.join(path, filename))\n",
        "path = '/content/drive/MyDrive/Dataset/tubular_adenoma/200X'\n",
        "for filename in os.listdir(path):\n",
        "    img = cv2.imread(os.path.join(path, filename))\n",
        "path = '/content/drive/MyDrive/Dataset/tubular_adenoma/400X'\n",
        "for filename in os.listdir(path):\n",
        "    img = cv2.imread(os.path.join(path, filename))"
      ],
      "metadata": {
        "id": "7Va0aXMYBbMo"
      },
      "execution_count": null,
      "outputs": []
    },
    {
      "cell_type": "markdown",
      "source": [
        "Preprocessing - Image Resizing and Normalization"
      ],
      "metadata": {
        "id": "_3SYFxCEBi7w"
      }
    },
    {
      "cell_type": "code",
      "source": [
        "import os\n",
        "import cv2\n",
        "import numpy as np\n",
        "\n",
        "# Define path to dataset\n",
        "dataset_path = \"/content/drive/MyDrive/Dataset\"\n",
        "\n",
        "# Define path to save preprocessed images\n",
        "save_path = \"/content/drive/MyDrive/Preprocessed_data\"\n",
        "\n",
        "# Define image size to resize images to\n",
        "img_size = (256, 256)\n",
        "\n",
        "# Loop through all subdirectories in the dataset\n",
        "for subdir in os.listdir(dataset_path):\n",
        "    if os.path.isdir(os.path.join(dataset_path, subdir)):\n",
        "        print(\"Processing images in directory:\", subdir)\n",
        "        for filename in os.listdir(os.path.join(dataset_path, subdir)):\n",
        "            if filename.endswith(\".png\"):\n",
        "                # Read image\n",
        "                img = cv2.imread(os.path.join(dataset_path, subdir, filename))\n",
        "\n",
        "                # Resize image\n",
        "                img_resized = cv2.resize(img, img_size)\n",
        "\n",
        "                # Normalize image\n",
        "                img_normalized = img_resized / 255.0\n",
        "\n",
        "                # Save preprocessed image\n",
        "                save_filename = os.path.join(save_path, subdir, filename)\n",
        "                os.makedirs(os.path.dirname(save_filename), exist_ok=True)\n",
        "                cv2.imwrite(save_filename, img_normalized)\n",
        "\n",
        "                print(\"Processed image:\", save_filename)\n"
      ],
      "metadata": {
        "colab": {
          "base_uri": "https://localhost:8080/"
        },
        "id": "n4MaF4R5Bv_H",
        "outputId": "69404ea7-77f9-4a3b-cfcc-62fe386bf206"
      },
      "execution_count": null,
      "outputs": [
        {
          "output_type": "stream",
          "name": "stdout",
          "text": [
            "Processing images in directory: adenosis\n",
            "Processing images in directory: tubular_adenoma\n",
            "Processing images in directory: phyllodes_tumor\n",
            "Processing images in directory: papillary_carcinoma\n",
            "Processing images in directory: mucinous_carcinoma\n",
            "Processing images in directory: lobular_carcinoma\n",
            "Processing images in directory: fibroadenoma\n",
            "Processing images in directory: ductal_carcinoma\n"
          ]
        }
      ]
    }
  ]
}